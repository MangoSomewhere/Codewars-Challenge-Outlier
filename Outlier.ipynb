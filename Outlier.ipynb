{
  "nbformat": 4,
  "nbformat_minor": 0,
  "metadata": {
    "colab": {
      "name": "Outlier.ipynb",
      "provenance": [],
      "authorship_tag": "ABX9TyNixIqcq8wq4mkAWEiTT3BA",
      "include_colab_link": true
    },
    "kernelspec": {
      "display_name": "Python 3",
      "name": "python3"
    }
  },
  "cells": [
    {
      "cell_type": "markdown",
      "metadata": {
        "id": "view-in-github",
        "colab_type": "text"
      },
      "source": [
        "<a href=\"https://colab.research.google.com/github/MangoSomewhere/Codewars-Challenge-Outlier/blob/main/Outlier.ipynb\" target=\"_parent\"><img src=\"https://colab.research.google.com/assets/colab-badge.svg\" alt=\"Open In Colab\"/></a>"
      ]
    },
    {
      "cell_type": "code",
      "metadata": {
        "id": "it5biAC7mV-i"
      },
      "source": [
        "'''\n",
        "Codewars Challenge: Outliers\n",
        "Goal: Must return the outlier out of the list. If majority of list is odd return \n",
        "  even, vice versa.   \n",
        "Requirements: scan integer list comprised of even or odd, and return the goal.\n",
        "Highlights: Integer list can be any number of length. \n",
        "\n",
        "'''"
      ],
      "execution_count": null,
      "outputs": []
    },
    {
      "cell_type": "code",
      "metadata": {
        "id": "p04shUbd9-pM",
        "outputId": "9feb7477-93bf-4296-e9d9-61929e218f3e",
        "colab": {
          "base_uri": "https://localhost:8080/"
        }
      },
      "source": [
        "integers = [2, 4, 0, 100, 4, 11, 2602, 36]\n",
        "#integers = [2, 4, 6, 8, 10, 3]               # should return 3 \n",
        "#integers = [2, 4, 0, 100, 4, 11, 2602, 36]   # should return 11\n",
        "#integers = [160, 3, 1719, 19, 11, 13, -21]   # should return 160\n",
        "\n",
        "def find_outlier(integers):\n",
        "  odd = []\n",
        "  even = []  \n",
        "  for num in integers:\n",
        "    if num % 2 == 0:\n",
        "      even.append(num)\n",
        "    if num % 2 > 0:\n",
        "      odd.append(num)\n",
        "  if len(odd) > len(even):\n",
        "    return even[0]\n",
        "  else:\n",
        "    return odd[0]\n",
        "find_outlier(integers)\n",
        "  "
      ],
      "execution_count": null,
      "outputs": [
        {
          "output_type": "execute_result",
          "data": {
            "text/plain": [
              "11"
            ]
          },
          "metadata": {
            "tags": []
          },
          "execution_count": 45
        }
      ]
    }
  ]
}